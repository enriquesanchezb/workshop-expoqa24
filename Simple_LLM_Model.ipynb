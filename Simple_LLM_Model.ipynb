{
  "cells": [
    {
      "cell_type": "code",
      "execution_count": null,
      "id": "a5ee7206",
      "metadata": {
        "id": "a5ee7206"
      },
      "outputs": [],
      "source": [
        "# Import Libraries\n",
        "import numpy as np\n",
        "from tensorflow.keras.models import Sequential\n",
        "from tensorflow.keras.layers import Embedding, LSTM, Dense\n",
        "from tensorflow.keras.preprocessing.text import Tokenizer\n",
        "from tensorflow.keras.preprocessing.sequence import pad_sequences"
      ]
    },
    {
      "cell_type": "code",
      "execution_count": null,
      "id": "8d18ee1e",
      "metadata": {
        "id": "8d18ee1e"
      },
      "outputs": [],
      "source": [
        "# Dataset\n",
        "dataset = [\n",
        "    \"The sky is clear today.\",\n",
        "    \"It looks like it's going to rain.\",\n",
        "    \"The weather forecast predicts sunny skies tomorrow.\",\n",
        "    \"I love walking in the rain.\",\n",
        "    \"Rainy days make me feel peaceful.\",\n",
        "    \"The sun is shining bright today.\",\n",
        "    \"It's incredibly cold outside today.\",\n",
        "    \"The wind is strong this afternoon.\",\n",
        "    \"I forgot my umbrella, and now I'm soaking wet.\",\n",
        "    \"The leaves turn beautiful colors in the fall.\",\n",
        "    \"Winter is coming, and it's getting colder.\",\n",
        "    \"The warmth of the sun feels so good on a cold day.\",\n",
        "    \"Snow is falling outside.\",\n",
        "    \"I hope it doesn't rain this weekend.\",\n",
        "    \"The weather is perfect for a picnic.\",\n",
        "    \"It's so hot outside that I can't think straight.\",\n",
        "    \"A storm is coming this evening.\",\n",
        "    \"The weather has been really unpredictable lately.\",\n",
        "    \"I'm looking forward to the spring flowers.\",\n",
        "    \"Autumn is my favorite season because of the cool weather.\",\n",
        "]\n"
      ]
    },
    {
      "cell_type": "code",
      "execution_count": null,
      "id": "2df6f91c",
      "metadata": {
        "id": "2df6f91c"
      },
      "outputs": [],
      "source": [
        "# Preprocessing\n",
        "tokenizer = Tokenizer()\n",
        "tokenizer.fit_on_texts(dataset)\n",
        "total_words = len(tokenizer.word_index) + 1\n",
        "\n",
        "input_sequences = []\n",
        "for line in dataset:\n",
        "    token_list = tokenizer.texts_to_sequences([line])[0]\n",
        "    for i in range(1, len(token_list)):\n",
        "        n_gram_sequence = token_list[:i+1]\n",
        "        input_sequences.append(n_gram_sequence)\n",
        "\n",
        "max_sequence_len = max([len(x) for x in input_sequences])\n",
        "input_sequences = np.array(pad_sequences(input_sequences, maxlen=max_sequence_len, padding='pre'))\n",
        "\n",
        "# Predictors and label\n",
        "X, labels = input_sequences[:,:-1],input_sequences[:,-1]"
      ]
    },
    {
      "cell_type": "code",
      "execution_count": null,
      "id": "7b467ad7",
      "metadata": {
        "id": "7b467ad7"
      },
      "outputs": [],
      "source": [
        "# Model Definition\n",
        "from tensorflow.keras.layers import Dropout\n",
        "\n",
        "model = Sequential()\n",
        "model.add(Embedding(total_words, 50, input_length=max_sequence_len-1))\n",
        "model.add(LSTM(150, return_sequences=True))\n",
        "model.add(Dropout(0.2))\n",
        "model.add(LSTM(100))\n",
        "model.add(Dense(total_words, activation='softmax'))"
      ]
    },
    {
      "cell_type": "code",
      "source": [
        "from tensorflow.keras.optimizers import Adam\n",
        "\n",
        "model.compile(loss='sparse_categorical_crossentropy', optimizer=Adam(lr=0.01), metrics=['accuracy'])"
      ],
      "metadata": {
        "colab": {
          "base_uri": "https://localhost:8080/"
        },
        "id": "apLQrHk9K0be",
        "outputId": "e566157c-59be-4339-c6ba-b4358d5500bf"
      },
      "id": "apLQrHk9K0be",
      "execution_count": null,
      "outputs": [
        {
          "output_type": "stream",
          "name": "stderr",
          "text": [
            "WARNING:absl:`lr` is deprecated in Keras optimizer, please use `learning_rate` or use the legacy optimizer, e.g.,tf.keras.optimizers.legacy.Adam.\n"
          ]
        }
      ]
    },
    {
      "cell_type": "code",
      "execution_count": null,
      "id": "c8fe1134",
      "metadata": {
        "colab": {
          "base_uri": "https://localhost:8080/"
        },
        "id": "c8fe1134",
        "outputId": "1cfe1bdf-f111-4d82-cfe8-68cdc320bb50"
      },
      "outputs": [
        {
          "output_type": "stream",
          "name": "stdout",
          "text": [
            "Epoch 1/100\n",
            "4/4 [==============================] - 5s 41ms/step - loss: 4.5330 - accuracy: 0.0413\n",
            "Epoch 2/100\n",
            "4/4 [==============================] - 0s 36ms/step - loss: 4.5202 - accuracy: 0.0661\n",
            "Epoch 3/100\n",
            "4/4 [==============================] - 0s 41ms/step - loss: 4.4997 - accuracy: 0.0661\n",
            "Epoch 4/100\n",
            "4/4 [==============================] - 0s 42ms/step - loss: 4.4574 - accuracy: 0.0661\n",
            "Epoch 5/100\n",
            "4/4 [==============================] - 0s 40ms/step - loss: 4.3775 - accuracy: 0.0661\n",
            "Epoch 6/100\n",
            "4/4 [==============================] - 0s 41ms/step - loss: 4.3720 - accuracy: 0.0661\n",
            "Epoch 7/100\n",
            "4/4 [==============================] - 0s 42ms/step - loss: 4.3449 - accuracy: 0.0661\n",
            "Epoch 8/100\n",
            "4/4 [==============================] - 0s 38ms/step - loss: 4.3345 - accuracy: 0.0661\n",
            "Epoch 9/100\n",
            "4/4 [==============================] - 0s 37ms/step - loss: 4.3179 - accuracy: 0.0661\n",
            "Epoch 10/100\n",
            "4/4 [==============================] - 0s 38ms/step - loss: 4.3121 - accuracy: 0.0661\n",
            "Epoch 11/100\n",
            "4/4 [==============================] - 0s 38ms/step - loss: 4.2989 - accuracy: 0.0661\n",
            "Epoch 12/100\n",
            "4/4 [==============================] - 0s 39ms/step - loss: 4.2842 - accuracy: 0.0744\n",
            "Epoch 13/100\n",
            "4/4 [==============================] - 0s 37ms/step - loss: 4.2636 - accuracy: 0.0661\n",
            "Epoch 14/100\n",
            "4/4 [==============================] - 0s 37ms/step - loss: 4.2519 - accuracy: 0.0661\n",
            "Epoch 15/100\n",
            "4/4 [==============================] - 0s 35ms/step - loss: 4.2315 - accuracy: 0.0661\n",
            "Epoch 16/100\n",
            "4/4 [==============================] - 0s 36ms/step - loss: 4.2079 - accuracy: 0.0661\n",
            "Epoch 17/100\n",
            "4/4 [==============================] - 0s 34ms/step - loss: 4.1791 - accuracy: 0.0826\n",
            "Epoch 18/100\n",
            "4/4 [==============================] - 0s 34ms/step - loss: 4.1379 - accuracy: 0.0909\n",
            "Epoch 19/100\n",
            "4/4 [==============================] - 0s 34ms/step - loss: 4.0959 - accuracy: 0.1074\n",
            "Epoch 20/100\n",
            "4/4 [==============================] - 0s 34ms/step - loss: 4.1069 - accuracy: 0.0909\n",
            "Epoch 21/100\n",
            "4/4 [==============================] - 0s 32ms/step - loss: 4.0192 - accuracy: 0.1157\n",
            "Epoch 22/100\n",
            "4/4 [==============================] - 0s 32ms/step - loss: 3.9870 - accuracy: 0.0992\n",
            "Epoch 23/100\n",
            "4/4 [==============================] - 0s 32ms/step - loss: 3.9795 - accuracy: 0.1074\n",
            "Epoch 24/100\n",
            "4/4 [==============================] - 0s 33ms/step - loss: 3.9150 - accuracy: 0.1074\n",
            "Epoch 25/100\n",
            "4/4 [==============================] - 0s 34ms/step - loss: 3.8524 - accuracy: 0.1240\n",
            "Epoch 26/100\n",
            "4/4 [==============================] - 0s 32ms/step - loss: 3.7790 - accuracy: 0.1240\n",
            "Epoch 27/100\n",
            "4/4 [==============================] - 0s 33ms/step - loss: 3.6848 - accuracy: 0.1322\n",
            "Epoch 28/100\n",
            "4/4 [==============================] - 0s 37ms/step - loss: 3.6113 - accuracy: 0.1322\n",
            "Epoch 29/100\n",
            "4/4 [==============================] - 0s 36ms/step - loss: 3.5468 - accuracy: 0.1488\n",
            "Epoch 30/100\n",
            "4/4 [==============================] - 0s 36ms/step - loss: 3.4776 - accuracy: 0.1405\n",
            "Epoch 31/100\n",
            "4/4 [==============================] - 0s 38ms/step - loss: 3.4297 - accuracy: 0.1488\n",
            "Epoch 32/100\n",
            "4/4 [==============================] - 0s 38ms/step - loss: 3.4022 - accuracy: 0.1570\n",
            "Epoch 33/100\n",
            "4/4 [==============================] - 0s 47ms/step - loss: 3.3402 - accuracy: 0.1488\n",
            "Epoch 34/100\n",
            "4/4 [==============================] - 0s 69ms/step - loss: 3.2720 - accuracy: 0.1901\n",
            "Epoch 35/100\n",
            "4/4 [==============================] - 0s 65ms/step - loss: 3.2338 - accuracy: 0.1983\n",
            "Epoch 36/100\n",
            "4/4 [==============================] - 0s 67ms/step - loss: 3.2168 - accuracy: 0.2231\n",
            "Epoch 37/100\n",
            "4/4 [==============================] - 0s 64ms/step - loss: 3.1446 - accuracy: 0.2231\n",
            "Epoch 38/100\n",
            "4/4 [==============================] - 0s 69ms/step - loss: 3.0918 - accuracy: 0.2397\n",
            "Epoch 39/100\n",
            "4/4 [==============================] - 0s 66ms/step - loss: 3.0933 - accuracy: 0.2149\n",
            "Epoch 40/100\n",
            "4/4 [==============================] - 0s 71ms/step - loss: 3.0102 - accuracy: 0.2727\n",
            "Epoch 41/100\n",
            "4/4 [==============================] - 0s 73ms/step - loss: 2.9289 - accuracy: 0.2810\n",
            "Epoch 42/100\n",
            "4/4 [==============================] - 0s 70ms/step - loss: 2.8878 - accuracy: 0.2562\n",
            "Epoch 43/100\n",
            "4/4 [==============================] - 0s 56ms/step - loss: 2.8185 - accuracy: 0.3388\n",
            "Epoch 44/100\n",
            "4/4 [==============================] - 0s 37ms/step - loss: 2.7741 - accuracy: 0.3306\n",
            "Epoch 45/100\n",
            "4/4 [==============================] - 0s 38ms/step - loss: 2.7273 - accuracy: 0.3388\n",
            "Epoch 46/100\n",
            "4/4 [==============================] - 0s 37ms/step - loss: 2.6834 - accuracy: 0.3471\n",
            "Epoch 47/100\n",
            "4/4 [==============================] - 0s 42ms/step - loss: 2.6380 - accuracy: 0.3636\n",
            "Epoch 48/100\n",
            "4/4 [==============================] - 0s 37ms/step - loss: 2.6186 - accuracy: 0.3884\n",
            "Epoch 49/100\n",
            "4/4 [==============================] - 0s 37ms/step - loss: 2.5337 - accuracy: 0.3719\n",
            "Epoch 50/100\n",
            "4/4 [==============================] - 0s 37ms/step - loss: 2.5223 - accuracy: 0.3802\n",
            "Epoch 51/100\n",
            "4/4 [==============================] - 0s 39ms/step - loss: 2.4718 - accuracy: 0.4132\n",
            "Epoch 52/100\n",
            "4/4 [==============================] - 0s 36ms/step - loss: 2.4421 - accuracy: 0.3802\n",
            "Epoch 53/100\n",
            "4/4 [==============================] - 0s 35ms/step - loss: 2.3902 - accuracy: 0.4215\n",
            "Epoch 54/100\n",
            "4/4 [==============================] - 0s 34ms/step - loss: 2.4000 - accuracy: 0.4298\n",
            "Epoch 55/100\n",
            "4/4 [==============================] - 0s 34ms/step - loss: 2.4047 - accuracy: 0.3967\n",
            "Epoch 56/100\n",
            "4/4 [==============================] - 0s 34ms/step - loss: 2.3381 - accuracy: 0.3967\n",
            "Epoch 57/100\n",
            "4/4 [==============================] - 0s 32ms/step - loss: 2.3069 - accuracy: 0.4545\n",
            "Epoch 58/100\n",
            "4/4 [==============================] - 0s 35ms/step - loss: 2.2716 - accuracy: 0.4711\n",
            "Epoch 59/100\n",
            "4/4 [==============================] - 0s 34ms/step - loss: 2.2547 - accuracy: 0.4380\n",
            "Epoch 60/100\n",
            "4/4 [==============================] - 0s 33ms/step - loss: 2.2513 - accuracy: 0.4711\n",
            "Epoch 61/100\n",
            "4/4 [==============================] - 0s 37ms/step - loss: 2.1955 - accuracy: 0.4215\n",
            "Epoch 62/100\n",
            "4/4 [==============================] - 0s 36ms/step - loss: 2.1486 - accuracy: 0.4711\n",
            "Epoch 63/100\n",
            "4/4 [==============================] - 0s 33ms/step - loss: 2.1117 - accuracy: 0.4876\n",
            "Epoch 64/100\n",
            "4/4 [==============================] - 0s 33ms/step - loss: 2.0919 - accuracy: 0.4959\n",
            "Epoch 65/100\n",
            "4/4 [==============================] - 0s 34ms/step - loss: 2.0685 - accuracy: 0.4959\n",
            "Epoch 66/100\n",
            "4/4 [==============================] - 0s 32ms/step - loss: 2.0537 - accuracy: 0.5207\n",
            "Epoch 67/100\n",
            "4/4 [==============================] - 0s 34ms/step - loss: 2.0172 - accuracy: 0.5124\n",
            "Epoch 68/100\n",
            "4/4 [==============================] - 0s 45ms/step - loss: 2.0067 - accuracy: 0.5124\n",
            "Epoch 69/100\n",
            "4/4 [==============================] - 0s 37ms/step - loss: 1.9823 - accuracy: 0.5372\n",
            "Epoch 70/100\n",
            "4/4 [==============================] - 0s 37ms/step - loss: 1.9320 - accuracy: 0.5289\n",
            "Epoch 71/100\n",
            "4/4 [==============================] - 0s 38ms/step - loss: 1.9454 - accuracy: 0.5455\n",
            "Epoch 72/100\n",
            "4/4 [==============================] - 0s 42ms/step - loss: 1.9178 - accuracy: 0.5455\n",
            "Epoch 73/100\n",
            "4/4 [==============================] - 0s 42ms/step - loss: 1.8795 - accuracy: 0.5620\n",
            "Epoch 74/100\n",
            "4/4 [==============================] - 0s 45ms/step - loss: 1.8464 - accuracy: 0.5620\n",
            "Epoch 75/100\n",
            "4/4 [==============================] - 0s 38ms/step - loss: 1.8269 - accuracy: 0.5620\n",
            "Epoch 76/100\n",
            "4/4 [==============================] - 0s 38ms/step - loss: 1.8046 - accuracy: 0.6033\n",
            "Epoch 77/100\n",
            "4/4 [==============================] - 0s 38ms/step - loss: 1.7774 - accuracy: 0.6198\n",
            "Epoch 78/100\n",
            "4/4 [==============================] - 0s 36ms/step - loss: 1.7561 - accuracy: 0.6446\n",
            "Epoch 79/100\n",
            "4/4 [==============================] - 0s 35ms/step - loss: 1.7403 - accuracy: 0.6281\n",
            "Epoch 80/100\n",
            "4/4 [==============================] - 0s 37ms/step - loss: 1.7246 - accuracy: 0.5950\n",
            "Epoch 81/100\n",
            "4/4 [==============================] - 0s 40ms/step - loss: 1.6967 - accuracy: 0.6612\n",
            "Epoch 82/100\n",
            "4/4 [==============================] - 0s 40ms/step - loss: 1.6727 - accuracy: 0.6364\n",
            "Epoch 83/100\n",
            "4/4 [==============================] - 0s 36ms/step - loss: 1.6546 - accuracy: 0.6364\n",
            "Epoch 84/100\n",
            "4/4 [==============================] - 0s 36ms/step - loss: 1.6481 - accuracy: 0.6446\n",
            "Epoch 85/100\n",
            "4/4 [==============================] - 0s 37ms/step - loss: 1.6296 - accuracy: 0.6281\n",
            "Epoch 86/100\n",
            "4/4 [==============================] - 0s 36ms/step - loss: 1.5919 - accuracy: 0.6694\n",
            "Epoch 87/100\n",
            "4/4 [==============================] - 0s 42ms/step - loss: 1.5716 - accuracy: 0.6860\n",
            "Epoch 88/100\n",
            "4/4 [==============================] - 0s 37ms/step - loss: 1.5617 - accuracy: 0.6529\n",
            "Epoch 89/100\n",
            "4/4 [==============================] - 0s 36ms/step - loss: 1.5356 - accuracy: 0.6860\n",
            "Epoch 90/100\n",
            "4/4 [==============================] - 0s 39ms/step - loss: 1.5311 - accuracy: 0.6529\n",
            "Epoch 91/100\n",
            "4/4 [==============================] - 0s 37ms/step - loss: 1.4983 - accuracy: 0.6694\n",
            "Epoch 92/100\n",
            "4/4 [==============================] - 0s 38ms/step - loss: 1.4775 - accuracy: 0.6694\n",
            "Epoch 93/100\n",
            "4/4 [==============================] - 0s 36ms/step - loss: 1.4799 - accuracy: 0.6777\n",
            "Epoch 94/100\n",
            "4/4 [==============================] - 0s 36ms/step - loss: 1.4569 - accuracy: 0.6777\n",
            "Epoch 95/100\n",
            "4/4 [==============================] - 0s 37ms/step - loss: 1.4677 - accuracy: 0.6777\n",
            "Epoch 96/100\n",
            "4/4 [==============================] - 0s 35ms/step - loss: 1.4495 - accuracy: 0.6860\n",
            "Epoch 97/100\n",
            "4/4 [==============================] - 0s 37ms/step - loss: 1.4059 - accuracy: 0.6860\n",
            "Epoch 98/100\n",
            "4/4 [==============================] - 0s 36ms/step - loss: 1.4016 - accuracy: 0.6860\n",
            "Epoch 99/100\n",
            "4/4 [==============================] - 0s 36ms/step - loss: 1.3748 - accuracy: 0.7107\n",
            "Epoch 100/100\n",
            "4/4 [==============================] - 0s 42ms/step - loss: 1.3705 - accuracy: 0.6860\n"
          ]
        },
        {
          "output_type": "execute_result",
          "data": {
            "text/plain": [
              "<keras.src.callbacks.History at 0x7c3748e23d00>"
            ]
          },
          "metadata": {},
          "execution_count": 17
        }
      ],
      "source": [
        "# Training\n",
        "model.fit(X, labels, epochs=100, verbose=1)"
      ]
    },
    {
      "cell_type": "code",
      "execution_count": null,
      "id": "5f4b9852",
      "metadata": {
        "colab": {
          "base_uri": "https://localhost:8080/"
        },
        "id": "5f4b9852",
        "outputId": "d17fc5b8-c028-45b0-d37a-7e33c5eec7b2"
      },
      "outputs": [
        {
          "output_type": "stream",
          "name": "stdout",
          "text": [
            "The weather today perfect for a picnic good\n"
          ]
        }
      ],
      "source": [
        "seed_text = \"The weather today\"\n",
        "next_words = 5\n",
        "\n",
        "for _ in range(next_words):\n",
        "    token_list = tokenizer.texts_to_sequences([seed_text])[0]\n",
        "    token_list = pad_sequences([token_list], maxlen=max_sequence_len-1, padding='pre')\n",
        "    predictions = model.predict(token_list, verbose=0)\n",
        "    predicted = np.argmax(predictions, axis=-1)[0]\n",
        "    output_word = \"\"\n",
        "    for word, index in tokenizer.word_index.items():\n",
        "        if index == predicted:\n",
        "            output_word = word\n",
        "            break\n",
        "    seed_text += \" \" + output_word\n",
        "\n",
        "print(seed_text)"
      ]
    }
  ],
  "metadata": {
    "colab": {
      "provenance": []
    },
    "language_info": {
      "name": "python"
    },
    "kernelspec": {
      "name": "python3",
      "display_name": "Python 3"
    }
  },
  "nbformat": 4,
  "nbformat_minor": 5
}